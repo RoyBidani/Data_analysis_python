{
  "nbformat": 4,
  "nbformat_minor": 0,
  "metadata": {
    "colab": {
      "provenance": []
    },
    "kernelspec": {
      "name": "python3",
      "display_name": "Python 3"
    },
    "language_info": {
      "name": "python"
    }
  },
  "cells": [
    {
      "cell_type": "markdown",
      "source": [
        "### data analysis on data base \"Tips\" from seaborn"
      ],
      "metadata": {
        "id": "_2iuGO6FCygq"
      }
    },
    {
      "cell_type": "code",
      "execution_count": 1,
      "metadata": {
        "id": "6dk16-Dz2_-S"
      },
      "outputs": [],
      "source": [
        "import numpy as np\n",
        "import pandas as pd\n",
        "import matplotlib.pyplot as plt\n",
        "import seaborn as sns\n"
      ]
    },
    {
      "cell_type": "code",
      "source": [
        "data = sns.load_dataset(\"tips\")\n"
      ],
      "metadata": {
        "id": "EWpLoVBC9R3l"
      },
      "execution_count": 2,
      "outputs": []
    },
    {
      "cell_type": "code",
      "source": [
        "data.head()\n"
      ],
      "metadata": {
        "id": "g9jbY1fx9Yq1",
        "colab": {
          "base_uri": "https://localhost:8080/",
          "height": 206
        },
        "outputId": "4eee3060-5993-4875-b671-e5e4126af0f0"
      },
      "execution_count": null,
      "outputs": [
        {
          "output_type": "execute_result",
          "data": {
            "text/plain": [
              "   total_bill   tip     sex smoker  day    time  size\n",
              "0       16.99  1.01  Female     No  Sun  Dinner     2\n",
              "1       10.34  1.66    Male     No  Sun  Dinner     3\n",
              "2       21.01  3.50    Male     No  Sun  Dinner     3\n",
              "3       23.68  3.31    Male     No  Sun  Dinner     2\n",
              "4       24.59  3.61  Female     No  Sun  Dinner     4"
            ],
            "text/html": [
              "\n",
              "  <div id=\"df-011b2bf6-5391-4594-8de7-1635defcc1e9\">\n",
              "    <div class=\"colab-df-container\">\n",
              "      <div>\n",
              "<style scoped>\n",
              "    .dataframe tbody tr th:only-of-type {\n",
              "        vertical-align: middle;\n",
              "    }\n",
              "\n",
              "    .dataframe tbody tr th {\n",
              "        vertical-align: top;\n",
              "    }\n",
              "\n",
              "    .dataframe thead th {\n",
              "        text-align: right;\n",
              "    }\n",
              "</style>\n",
              "<table border=\"1\" class=\"dataframe\">\n",
              "  <thead>\n",
              "    <tr style=\"text-align: right;\">\n",
              "      <th></th>\n",
              "      <th>total_bill</th>\n",
              "      <th>tip</th>\n",
              "      <th>sex</th>\n",
              "      <th>smoker</th>\n",
              "      <th>day</th>\n",
              "      <th>time</th>\n",
              "      <th>size</th>\n",
              "    </tr>\n",
              "  </thead>\n",
              "  <tbody>\n",
              "    <tr>\n",
              "      <th>0</th>\n",
              "      <td>16.99</td>\n",
              "      <td>1.01</td>\n",
              "      <td>Female</td>\n",
              "      <td>No</td>\n",
              "      <td>Sun</td>\n",
              "      <td>Dinner</td>\n",
              "      <td>2</td>\n",
              "    </tr>\n",
              "    <tr>\n",
              "      <th>1</th>\n",
              "      <td>10.34</td>\n",
              "      <td>1.66</td>\n",
              "      <td>Male</td>\n",
              "      <td>No</td>\n",
              "      <td>Sun</td>\n",
              "      <td>Dinner</td>\n",
              "      <td>3</td>\n",
              "    </tr>\n",
              "    <tr>\n",
              "      <th>2</th>\n",
              "      <td>21.01</td>\n",
              "      <td>3.50</td>\n",
              "      <td>Male</td>\n",
              "      <td>No</td>\n",
              "      <td>Sun</td>\n",
              "      <td>Dinner</td>\n",
              "      <td>3</td>\n",
              "    </tr>\n",
              "    <tr>\n",
              "      <th>3</th>\n",
              "      <td>23.68</td>\n",
              "      <td>3.31</td>\n",
              "      <td>Male</td>\n",
              "      <td>No</td>\n",
              "      <td>Sun</td>\n",
              "      <td>Dinner</td>\n",
              "      <td>2</td>\n",
              "    </tr>\n",
              "    <tr>\n",
              "      <th>4</th>\n",
              "      <td>24.59</td>\n",
              "      <td>3.61</td>\n",
              "      <td>Female</td>\n",
              "      <td>No</td>\n",
              "      <td>Sun</td>\n",
              "      <td>Dinner</td>\n",
              "      <td>4</td>\n",
              "    </tr>\n",
              "  </tbody>\n",
              "</table>\n",
              "</div>\n",
              "      <button class=\"colab-df-convert\" onclick=\"convertToInteractive('df-011b2bf6-5391-4594-8de7-1635defcc1e9')\"\n",
              "              title=\"Convert this dataframe to an interactive table.\"\n",
              "              style=\"display:none;\">\n",
              "        \n",
              "  <svg xmlns=\"http://www.w3.org/2000/svg\" height=\"24px\"viewBox=\"0 0 24 24\"\n",
              "       width=\"24px\">\n",
              "    <path d=\"M0 0h24v24H0V0z\" fill=\"none\"/>\n",
              "    <path d=\"M18.56 5.44l.94 2.06.94-2.06 2.06-.94-2.06-.94-.94-2.06-.94 2.06-2.06.94zm-11 1L8.5 8.5l.94-2.06 2.06-.94-2.06-.94L8.5 2.5l-.94 2.06-2.06.94zm10 10l.94 2.06.94-2.06 2.06-.94-2.06-.94-.94-2.06-.94 2.06-2.06.94z\"/><path d=\"M17.41 7.96l-1.37-1.37c-.4-.4-.92-.59-1.43-.59-.52 0-1.04.2-1.43.59L10.3 9.45l-7.72 7.72c-.78.78-.78 2.05 0 2.83L4 21.41c.39.39.9.59 1.41.59.51 0 1.02-.2 1.41-.59l7.78-7.78 2.81-2.81c.8-.78.8-2.07 0-2.86zM5.41 20L4 18.59l7.72-7.72 1.47 1.35L5.41 20z\"/>\n",
              "  </svg>\n",
              "      </button>\n",
              "      \n",
              "  <style>\n",
              "    .colab-df-container {\n",
              "      display:flex;\n",
              "      flex-wrap:wrap;\n",
              "      gap: 12px;\n",
              "    }\n",
              "\n",
              "    .colab-df-convert {\n",
              "      background-color: #E8F0FE;\n",
              "      border: none;\n",
              "      border-radius: 50%;\n",
              "      cursor: pointer;\n",
              "      display: none;\n",
              "      fill: #1967D2;\n",
              "      height: 32px;\n",
              "      padding: 0 0 0 0;\n",
              "      width: 32px;\n",
              "    }\n",
              "\n",
              "    .colab-df-convert:hover {\n",
              "      background-color: #E2EBFA;\n",
              "      box-shadow: 0px 1px 2px rgba(60, 64, 67, 0.3), 0px 1px 3px 1px rgba(60, 64, 67, 0.15);\n",
              "      fill: #174EA6;\n",
              "    }\n",
              "\n",
              "    [theme=dark] .colab-df-convert {\n",
              "      background-color: #3B4455;\n",
              "      fill: #D2E3FC;\n",
              "    }\n",
              "\n",
              "    [theme=dark] .colab-df-convert:hover {\n",
              "      background-color: #434B5C;\n",
              "      box-shadow: 0px 1px 3px 1px rgba(0, 0, 0, 0.15);\n",
              "      filter: drop-shadow(0px 1px 2px rgba(0, 0, 0, 0.3));\n",
              "      fill: #FFFFFF;\n",
              "    }\n",
              "  </style>\n",
              "\n",
              "      <script>\n",
              "        const buttonEl =\n",
              "          document.querySelector('#df-011b2bf6-5391-4594-8de7-1635defcc1e9 button.colab-df-convert');\n",
              "        buttonEl.style.display =\n",
              "          google.colab.kernel.accessAllowed ? 'block' : 'none';\n",
              "\n",
              "        async function convertToInteractive(key) {\n",
              "          const element = document.querySelector('#df-011b2bf6-5391-4594-8de7-1635defcc1e9');\n",
              "          const dataTable =\n",
              "            await google.colab.kernel.invokeFunction('convertToInteractive',\n",
              "                                                     [key], {});\n",
              "          if (!dataTable) return;\n",
              "\n",
              "          const docLinkHtml = 'Like what you see? Visit the ' +\n",
              "            '<a target=\"_blank\" href=https://colab.research.google.com/notebooks/data_table.ipynb>data table notebook</a>'\n",
              "            + ' to learn more about interactive tables.';\n",
              "          element.innerHTML = '';\n",
              "          dataTable['output_type'] = 'display_data';\n",
              "          await google.colab.output.renderOutput(dataTable, element);\n",
              "          const docLink = document.createElement('div');\n",
              "          docLink.innerHTML = docLinkHtml;\n",
              "          element.appendChild(docLink);\n",
              "        }\n",
              "      </script>\n",
              "    </div>\n",
              "  </div>\n",
              "  "
            ]
          },
          "metadata": {},
          "execution_count": 106
        }
      ]
    },
    {
      "cell_type": "code",
      "source": [
        "data.describe()\n"
      ],
      "metadata": {
        "id": "IuUCvqIw-V_k",
        "colab": {
          "base_uri": "https://localhost:8080/",
          "height": 300
        },
        "outputId": "57668889-764f-4ce7-854e-cb1944f79788"
      },
      "execution_count": null,
      "outputs": [
        {
          "output_type": "execute_result",
          "data": {
            "text/plain": [
              "       total_bill         tip        size\n",
              "count  244.000000  244.000000  244.000000\n",
              "mean    19.785943    2.998279    2.569672\n",
              "std      8.902412    1.383638    0.951100\n",
              "min      3.070000    1.000000    1.000000\n",
              "25%     13.347500    2.000000    2.000000\n",
              "50%     17.795000    2.900000    2.000000\n",
              "75%     24.127500    3.562500    3.000000\n",
              "max     50.810000   10.000000    6.000000"
            ],
            "text/html": [
              "\n",
              "  <div id=\"df-66496c9d-7234-4561-9c8b-3d1689475eb6\">\n",
              "    <div class=\"colab-df-container\">\n",
              "      <div>\n",
              "<style scoped>\n",
              "    .dataframe tbody tr th:only-of-type {\n",
              "        vertical-align: middle;\n",
              "    }\n",
              "\n",
              "    .dataframe tbody tr th {\n",
              "        vertical-align: top;\n",
              "    }\n",
              "\n",
              "    .dataframe thead th {\n",
              "        text-align: right;\n",
              "    }\n",
              "</style>\n",
              "<table border=\"1\" class=\"dataframe\">\n",
              "  <thead>\n",
              "    <tr style=\"text-align: right;\">\n",
              "      <th></th>\n",
              "      <th>total_bill</th>\n",
              "      <th>tip</th>\n",
              "      <th>size</th>\n",
              "    </tr>\n",
              "  </thead>\n",
              "  <tbody>\n",
              "    <tr>\n",
              "      <th>count</th>\n",
              "      <td>244.000000</td>\n",
              "      <td>244.000000</td>\n",
              "      <td>244.000000</td>\n",
              "    </tr>\n",
              "    <tr>\n",
              "      <th>mean</th>\n",
              "      <td>19.785943</td>\n",
              "      <td>2.998279</td>\n",
              "      <td>2.569672</td>\n",
              "    </tr>\n",
              "    <tr>\n",
              "      <th>std</th>\n",
              "      <td>8.902412</td>\n",
              "      <td>1.383638</td>\n",
              "      <td>0.951100</td>\n",
              "    </tr>\n",
              "    <tr>\n",
              "      <th>min</th>\n",
              "      <td>3.070000</td>\n",
              "      <td>1.000000</td>\n",
              "      <td>1.000000</td>\n",
              "    </tr>\n",
              "    <tr>\n",
              "      <th>25%</th>\n",
              "      <td>13.347500</td>\n",
              "      <td>2.000000</td>\n",
              "      <td>2.000000</td>\n",
              "    </tr>\n",
              "    <tr>\n",
              "      <th>50%</th>\n",
              "      <td>17.795000</td>\n",
              "      <td>2.900000</td>\n",
              "      <td>2.000000</td>\n",
              "    </tr>\n",
              "    <tr>\n",
              "      <th>75%</th>\n",
              "      <td>24.127500</td>\n",
              "      <td>3.562500</td>\n",
              "      <td>3.000000</td>\n",
              "    </tr>\n",
              "    <tr>\n",
              "      <th>max</th>\n",
              "      <td>50.810000</td>\n",
              "      <td>10.000000</td>\n",
              "      <td>6.000000</td>\n",
              "    </tr>\n",
              "  </tbody>\n",
              "</table>\n",
              "</div>\n",
              "      <button class=\"colab-df-convert\" onclick=\"convertToInteractive('df-66496c9d-7234-4561-9c8b-3d1689475eb6')\"\n",
              "              title=\"Convert this dataframe to an interactive table.\"\n",
              "              style=\"display:none;\">\n",
              "        \n",
              "  <svg xmlns=\"http://www.w3.org/2000/svg\" height=\"24px\"viewBox=\"0 0 24 24\"\n",
              "       width=\"24px\">\n",
              "    <path d=\"M0 0h24v24H0V0z\" fill=\"none\"/>\n",
              "    <path d=\"M18.56 5.44l.94 2.06.94-2.06 2.06-.94-2.06-.94-.94-2.06-.94 2.06-2.06.94zm-11 1L8.5 8.5l.94-2.06 2.06-.94-2.06-.94L8.5 2.5l-.94 2.06-2.06.94zm10 10l.94 2.06.94-2.06 2.06-.94-2.06-.94-.94-2.06-.94 2.06-2.06.94z\"/><path d=\"M17.41 7.96l-1.37-1.37c-.4-.4-.92-.59-1.43-.59-.52 0-1.04.2-1.43.59L10.3 9.45l-7.72 7.72c-.78.78-.78 2.05 0 2.83L4 21.41c.39.39.9.59 1.41.59.51 0 1.02-.2 1.41-.59l7.78-7.78 2.81-2.81c.8-.78.8-2.07 0-2.86zM5.41 20L4 18.59l7.72-7.72 1.47 1.35L5.41 20z\"/>\n",
              "  </svg>\n",
              "      </button>\n",
              "      \n",
              "  <style>\n",
              "    .colab-df-container {\n",
              "      display:flex;\n",
              "      flex-wrap:wrap;\n",
              "      gap: 12px;\n",
              "    }\n",
              "\n",
              "    .colab-df-convert {\n",
              "      background-color: #E8F0FE;\n",
              "      border: none;\n",
              "      border-radius: 50%;\n",
              "      cursor: pointer;\n",
              "      display: none;\n",
              "      fill: #1967D2;\n",
              "      height: 32px;\n",
              "      padding: 0 0 0 0;\n",
              "      width: 32px;\n",
              "    }\n",
              "\n",
              "    .colab-df-convert:hover {\n",
              "      background-color: #E2EBFA;\n",
              "      box-shadow: 0px 1px 2px rgba(60, 64, 67, 0.3), 0px 1px 3px 1px rgba(60, 64, 67, 0.15);\n",
              "      fill: #174EA6;\n",
              "    }\n",
              "\n",
              "    [theme=dark] .colab-df-convert {\n",
              "      background-color: #3B4455;\n",
              "      fill: #D2E3FC;\n",
              "    }\n",
              "\n",
              "    [theme=dark] .colab-df-convert:hover {\n",
              "      background-color: #434B5C;\n",
              "      box-shadow: 0px 1px 3px 1px rgba(0, 0, 0, 0.15);\n",
              "      filter: drop-shadow(0px 1px 2px rgba(0, 0, 0, 0.3));\n",
              "      fill: #FFFFFF;\n",
              "    }\n",
              "  </style>\n",
              "\n",
              "      <script>\n",
              "        const buttonEl =\n",
              "          document.querySelector('#df-66496c9d-7234-4561-9c8b-3d1689475eb6 button.colab-df-convert');\n",
              "        buttonEl.style.display =\n",
              "          google.colab.kernel.accessAllowed ? 'block' : 'none';\n",
              "\n",
              "        async function convertToInteractive(key) {\n",
              "          const element = document.querySelector('#df-66496c9d-7234-4561-9c8b-3d1689475eb6');\n",
              "          const dataTable =\n",
              "            await google.colab.kernel.invokeFunction('convertToInteractive',\n",
              "                                                     [key], {});\n",
              "          if (!dataTable) return;\n",
              "\n",
              "          const docLinkHtml = 'Like what you see? Visit the ' +\n",
              "            '<a target=\"_blank\" href=https://colab.research.google.com/notebooks/data_table.ipynb>data table notebook</a>'\n",
              "            + ' to learn more about interactive tables.';\n",
              "          element.innerHTML = '';\n",
              "          dataTable['output_type'] = 'display_data';\n",
              "          await google.colab.output.renderOutput(dataTable, element);\n",
              "          const docLink = document.createElement('div');\n",
              "          docLink.innerHTML = docLinkHtml;\n",
              "          element.appendChild(docLink);\n",
              "        }\n",
              "      </script>\n",
              "    </div>\n",
              "  </div>\n",
              "  "
            ]
          },
          "metadata": {},
          "execution_count": 111
        }
      ]
    },
    {
      "cell_type": "markdown",
      "source": [
        "###Scatter plot of total bill vs. tip amount.\n"
      ],
      "metadata": {
        "id": "JJ6z4GYF9aeO"
      }
    },
    {
      "cell_type": "code",
      "source": [
        "sns.scatterplot(data=data, x=\"total_bill\", y=\"tip\")"
      ],
      "metadata": {
        "id": "7fnKNbYnAknh",
        "colab": {
          "base_uri": "https://localhost:8080/",
          "height": 297
        },
        "outputId": "1fe751bf-f8fe-43c2-eb29-e53e40f9d16d"
      },
      "execution_count": null,
      "outputs": [
        {
          "output_type": "execute_result",
          "data": {
            "text/plain": [
              "<matplotlib.axes._subplots.AxesSubplot at 0x7fb86f3f84c0>"
            ]
          },
          "metadata": {},
          "execution_count": 84
        },
        {
          "output_type": "display_data",
          "data": {
            "text/plain": [
              "<Figure size 432x288 with 1 Axes>"
            ],
            "image/png": "[encoded data removed]"
          },
          "metadata": {
            "needs_background": "light"
          }
        }
      ]
    },
    {
      "cell_type": "code",
      "source": [
        "print(\"Tabels with 2 or more people \\n\\n{0}\".format(data.query(\"size > 2\")))\n",
        "print(\"Median of the total bill \\n\\n{0}\".format(data[\"total_bill\"].median()))\n",
        "print(\"\\nThe standard deviation of the total_bill is \\n\\n{0}\".format(data[\"total_bill\"].std()))"
      ],
      "metadata": {
        "colab": {
          "base_uri": "https://localhost:8080/"
        },
        "id": "w-HnieO3P31E",
        "outputId": "876ffdfb-4023-47f3-82f3-e0d5d7ed2388"
      },
      "execution_count": null,
      "outputs": [
        {
          "output_type": "stream",
          "name": "stdout",
          "text": [
            "Tabels with 2 or more people \n",
            "\n",
            "     total_bill   tip     sex smoker  day    time  size\n",
            "1         10.34  1.66    Male     No  Sun  Dinner     3\n",
            "2         21.01  3.50    Male     No  Sun  Dinner     3\n",
            "4         24.59  3.61  Female     No  Sun  Dinner     4\n",
            "5         25.29  4.71    Male     No  Sun  Dinner     4\n",
            "7         26.88  3.12    Male     No  Sun  Dinner     4\n",
            "..          ...   ...     ...    ...  ...     ...   ...\n",
            "227       20.45  3.00    Male     No  Sat  Dinner     4\n",
            "230       24.01  2.00    Male    Yes  Sat  Dinner     4\n",
            "231       15.69  3.00    Male    Yes  Sat  Dinner     3\n",
            "238       35.83  4.67  Female     No  Sat  Dinner     3\n",
            "239       29.03  5.92    Male     No  Sat  Dinner     3\n",
            "\n",
            "[84 rows x 7 columns]\n",
            "Median of the total bill \n",
            "\n",
            "17.795\n",
            "\n",
            "The standard deviation of the total_bill is \n",
            "\n",
            "8.902411954856856\n"
          ]
        }
      ]
    },
    {
      "cell_type": "markdown",
      "source": [],
      "metadata": {
        "id": "1CoWYcsf3-5M"
      }
    },
    {
      "cell_type": "markdown",
      "source": [
        "###Customize the scatter plot."
      ],
      "metadata": {
        "id": "W1MOU6LrAi2p"
      }
    },
    {
      "cell_type": "code",
      "source": [
        "sns.scatterplot(x=\"total_bill\", y=\"tip\", data=data,color = \"green\", size=\"size\")\n",
        "plt.title(\"Scatter plot of total bill vs tip\")\n",
        "plt.xlabel(\"Total Bill\", fontsize=14)\n",
        "plt.ylabel(\"Tip Amount\", fontsize=14)\n"
      ],
      "metadata": {
        "id": "3IZlF6gUAo2k",
        "colab": {
          "base_uri": "https://localhost:8080/",
          "height": 316
        },
        "outputId": "174b3be2-84b3-40c6-bffe-9128974cfcfb"
      },
      "execution_count": null,
      "outputs": [
        {
          "output_type": "execute_result",
          "data": {
            "text/plain": [
              "Text(0, 0.5, 'Tip Amount')"
            ]
          },
          "metadata": {},
          "execution_count": 95
        },
        {
          "output_type": "display_data",
          "data": {
            "text/plain": [
              "<Figure size 432x288 with 1 Axes>"
            ],
            "image/png": "[encoded data removed]"
          },
          "metadata": {
            "needs_background": "light"
          }
        }
      ]
    },
    {
      "cell_type": "markdown",
      "source": [
        "###Histogram of the tip amount.\n"
      ],
      "metadata": {
        "id": "Lre8TkLCAro2"
      }
    },
    {
      "cell_type": "code",
      "source": [
        "sns.histplot(data=data, x=\"tip\")"
      ],
      "metadata": {
        "id": "CDAVRfwzBjVD",
        "colab": {
          "base_uri": "https://localhost:8080/",
          "height": 296
        },
        "outputId": "b0421daf-ca62-4205-f795-8e2937eecd2b"
      },
      "execution_count": null,
      "outputs": [
        {
          "output_type": "execute_result",
          "data": {
            "text/plain": [
              "<matplotlib.axes._subplots.AxesSubplot at 0x7fb86eee4e80>"
            ]
          },
          "metadata": {},
          "execution_count": 98
        },
        {
          "output_type": "display_data",
          "data": {
            "text/plain": [
              "<Figure size 432x288 with 1 Axes>"
            ],
            "image/png": "[encoded data removed]"
          },
          "metadata": {
            "needs_background": "light"
          }
        }
      ]
    },
    {
      "cell_type": "markdown",
      "source": [
        "###Testing the hypothesis that the mean tip is more than $2.8. With one sample t-test using the scipy library.\n"
      ],
      "metadata": {
        "id": "c7K3LEAgBzbJ"
      }
    },
    {
      "cell_type": "code",
      "source": [
        "from scipy import stats\n",
        "\n",
        "def t_test(t_value,p_value,alpha):\n",
        "  one_tailed_p_value=float(\"{:.6f}\".format(p_value/2)) \n",
        "\n",
        "  print('Test statistic is {0}'.format(float(\"{:.6f}\".format(t_value))))\n",
        "  print('p-value for one tailed test is {0}'.format(one_tailed_p_value))\n",
        "\n",
        "  if one_tailed_p_value<=alpha:\n",
        "    print('Conclusion: Since p-value(={0}) < alpha(={1:.2f}) We reject the null hypothesis H0'.format(one_tailed_p_value,alpha))\n",
        "  else:\n",
        "    print('Conclusion: Since p-value(={0}) > alpha(={1:.2f}) We do not reject the null hypothesis H0'.format(one_tailed_p_value,alpha))\n",
        "\n",
        "\n",
        "mu = 2.8\n",
        "alpha = 0.05\n",
        "tips = data[\"tip\"]\n",
        "\n",
        "t_value,p_value=stats.ttest_1samp(tips,mu)\n",
        "\n",
        "t_test(t_value,p_value,alpha)\n",
        "\n",
        "\n"
      ],
      "metadata": {
        "id": "4UwfcJY1B2yu",
        "colab": {
          "base_uri": "https://localhost:8080/"
        },
        "outputId": "8b3fb1b4-19d5-4685-f39e-5f256944375a"
      },
      "execution_count": null,
      "outputs": [
        {
          "output_type": "stream",
          "name": "stdout",
          "text": [
            "Test statistic is 2.238455\n",
            "p-value for one tailed test is 0.013049\n",
            "Conclusion: Since p-value(=0.013049) < alpha(=0.05) We reject the null hypothesis H0\n"
          ]
        }
      ]
    },
    {
      "cell_type": "markdown",
      "source": [
        "###Checking the hypothesis if people leave more than $1 per person. In two ways:\n",
        "\n",
        "a) Check t-test paired.\n",
        "\n",
        "b) check t-test 1 sample."
      ],
      "metadata": {
        "id": "QBHUI1PmB3TM"
      }
    },
    {
      "cell_type": "code",
      "source": [
        "from scipy import stats\n",
        "\n",
        "alpha = 0.05\n",
        "#A\n",
        "t_value,p_value=stats.ttest_rel(data[\"tip\"],data[\"size\"])\n",
        "t_test(t_value,p_value,alpha)\n",
        "\n",
        "print()\n",
        "\n",
        "#B\n",
        "mu = 1\n",
        "tips = data[\"tip\"]/data[\"size\"]\n",
        "\n",
        "t_value,p_value=stats.ttest_1samp(tips,mu)\n",
        "\n",
        "t_test(t_value,p_value,alpha)"
      ],
      "metadata": {
        "id": "fm49UQ6yCrUU",
        "colab": {
          "base_uri": "https://localhost:8080/"
        },
        "outputId": "cea04966-5654-4e23-827a-5fe513d59dbf"
      },
      "execution_count": null,
      "outputs": [
        {
          "output_type": "stream",
          "name": "stdout",
          "text": [
            "Test statistic is 5.410447\n",
            "p-value for one tailed test is 0.0\n",
            "Conclusion: Since p-value(=0.0) < alpha(=0.05) We reject the null hypothesis H0\n",
            "\n",
            "Test statistic is 6.759019\n",
            "p-value for one tailed test is 0.0\n",
            "Conclusion: Since p-value(=0.0) < alpha(=0.05) We reject the null hypothesis H0\n"
          ]
        }
      ]
    },
    {
      "cell_type": "markdown",
      "source": [
        "###Grouping and calculating mean by day"
      ],
      "metadata": {
        "id": "xiSgzaBrCsWb"
      }
    },
    {
      "cell_type": "code",
      "source": [
        "data.groupby([\"day\"]).mean()"
      ],
      "metadata": {
        "colab": {
          "base_uri": "https://localhost:8080/",
          "height": 206
        },
        "id": "yU8OSr-jOzPY",
        "outputId": "80316ced-a521-4199-a0c1-3a42d4356014"
      },
      "execution_count": null,
      "outputs": [
        {
          "output_type": "execute_result",
          "data": {
            "text/plain": [
              "      total_bill       tip      size\n",
              "day                                 \n",
              "Thur   17.682742  2.771452  2.451613\n",
              "Fri    17.151579  2.734737  2.105263\n",
              "Sat    20.441379  2.993103  2.517241\n",
              "Sun    21.410000  3.255132  2.842105"
            ],
            "text/html": [
              "\n",
              "  <div id=\"df-6a0c469b-4840-4c2a-9745-ef60fe676f37\">\n",
              "    <div class=\"colab-df-container\">\n",
              "      <div>\n",
              "<style scoped>\n",
              "    .dataframe tbody tr th:only-of-type {\n",
              "        vertical-align: middle;\n",
              "    }\n",
              "\n",
              "    .dataframe tbody tr th {\n",
              "        vertical-align: top;\n",
              "    }\n",
              "\n",
              "    .dataframe thead th {\n",
              "        text-align: right;\n",
              "    }\n",
              "</style>\n",
              "<table border=\"1\" class=\"dataframe\">\n",
              "  <thead>\n",
              "    <tr style=\"text-align: right;\">\n",
              "      <th></th>\n",
              "      <th>total_bill</th>\n",
              "      <th>tip</th>\n",
              "      <th>size</th>\n",
              "    </tr>\n",
              "    <tr>\n",
              "      <th>day</th>\n",
              "      <th></th>\n",
              "      <th></th>\n",
              "      <th></th>\n",
              "    </tr>\n",
              "  </thead>\n",
              "  <tbody>\n",
              "    <tr>\n",
              "      <th>Thur</th>\n",
              "      <td>17.682742</td>\n",
              "      <td>2.771452</td>\n",
              "      <td>2.451613</td>\n",
              "    </tr>\n",
              "    <tr>\n",
              "      <th>Fri</th>\n",
              "      <td>17.151579</td>\n",
              "      <td>2.734737</td>\n",
              "      <td>2.105263</td>\n",
              "    </tr>\n",
              "    <tr>\n",
              "      <th>Sat</th>\n",
              "      <td>20.441379</td>\n",
              "      <td>2.993103</td>\n",
              "      <td>2.517241</td>\n",
              "    </tr>\n",
              "    <tr>\n",
              "      <th>Sun</th>\n",
              "      <td>21.410000</td>\n",
              "      <td>3.255132</td>\n",
              "      <td>2.842105</td>\n",
              "    </tr>\n",
              "  </tbody>\n",
              "</table>\n",
              "</div>\n",
              "      <button class=\"colab-df-convert\" onclick=\"convertToInteractive('df-6a0c469b-4840-4c2a-9745-ef60fe676f37')\"\n",
              "              title=\"Convert this dataframe to an interactive table.\"\n",
              "              style=\"display:none;\">\n",
              "        \n",
              "  <svg xmlns=\"http://www.w3.org/2000/svg\" height=\"24px\"viewBox=\"0 0 24 24\"\n",
              "       width=\"24px\">\n",
              "    <path d=\"M0 0h24v24H0V0z\" fill=\"none\"/>\n",
              "    <path d=\"M18.56 5.44l.94 2.06.94-2.06 2.06-.94-2.06-.94-.94-2.06-.94 2.06-2.06.94zm-11 1L8.5 8.5l.94-2.06 2.06-.94-2.06-.94L8.5 2.5l-.94 2.06-2.06.94zm10 10l.94 2.06.94-2.06 2.06-.94-2.06-.94-.94-2.06-.94 2.06-2.06.94z\"/><path d=\"M17.41 7.96l-1.37-1.37c-.4-.4-.92-.59-1.43-.59-.52 0-1.04.2-1.43.59L10.3 9.45l-7.72 7.72c-.78.78-.78 2.05 0 2.83L4 21.41c.39.39.9.59 1.41.59.51 0 1.02-.2 1.41-.59l7.78-7.78 2.81-2.81c.8-.78.8-2.07 0-2.86zM5.41 20L4 18.59l7.72-7.72 1.47 1.35L5.41 20z\"/>\n",
              "  </svg>\n",
              "      </button>\n",
              "      \n",
              "  <style>\n",
              "    .colab-df-container {\n",
              "      display:flex;\n",
              "      flex-wrap:wrap;\n",
              "      gap: 12px;\n",
              "    }\n",
              "\n",
              "    .colab-df-convert {\n",
              "      background-color: #E8F0FE;\n",
              "      border: none;\n",
              "      border-radius: 50%;\n",
              "      cursor: pointer;\n",
              "      display: none;\n",
              "      fill: #1967D2;\n",
              "      height: 32px;\n",
              "      padding: 0 0 0 0;\n",
              "      width: 32px;\n",
              "    }\n",
              "\n",
              "    .colab-df-convert:hover {\n",
              "      background-color: #E2EBFA;\n",
              "      box-shadow: 0px 1px 2px rgba(60, 64, 67, 0.3), 0px 1px 3px 1px rgba(60, 64, 67, 0.15);\n",
              "      fill: #174EA6;\n",
              "    }\n",
              "\n",
              "    [theme=dark] .colab-df-convert {\n",
              "      background-color: #3B4455;\n",
              "      fill: #D2E3FC;\n",
              "    }\n",
              "\n",
              "    [theme=dark] .colab-df-convert:hover {\n",
              "      background-color: #434B5C;\n",
              "      box-shadow: 0px 1px 3px 1px rgba(0, 0, 0, 0.15);\n",
              "      filter: drop-shadow(0px 1px 2px rgba(0, 0, 0, 0.3));\n",
              "      fill: #FFFFFF;\n",
              "    }\n",
              "  </style>\n",
              "\n",
              "      <script>\n",
              "        const buttonEl =\n",
              "          document.querySelector('#df-6a0c469b-4840-4c2a-9745-ef60fe676f37 button.colab-df-convert');\n",
              "        buttonEl.style.display =\n",
              "          google.colab.kernel.accessAllowed ? 'block' : 'none';\n",
              "\n",
              "        async function convertToInteractive(key) {\n",
              "          const element = document.querySelector('#df-6a0c469b-4840-4c2a-9745-ef60fe676f37');\n",
              "          const dataTable =\n",
              "            await google.colab.kernel.invokeFunction('convertToInteractive',\n",
              "                                                     [key], {});\n",
              "          if (!dataTable) return;\n",
              "\n",
              "          const docLinkHtml = 'Like what you see? Visit the ' +\n",
              "            '<a target=\"_blank\" href=https://colab.research.google.com/notebooks/data_table.ipynb>data table notebook</a>'\n",
              "            + ' to learn more about interactive tables.';\n",
              "          element.innerHTML = '';\n",
              "          dataTable['output_type'] = 'display_data';\n",
              "          await google.colab.output.renderOutput(dataTable, element);\n",
              "          const docLink = document.createElement('div');\n",
              "          docLink.innerHTML = docLinkHtml;\n",
              "          element.appendChild(docLink);\n",
              "        }\n",
              "      </script>\n",
              "    </div>\n",
              "  </div>\n",
              "  "
            ]
          },
          "metadata": {},
          "execution_count": 130
        }
      ]
    },
    {
      "cell_type": "markdown",
      "source": [
        "###Filtering and calculating statistics\n",
        "\n",
        "* Using Pandas query() function to filter the data based on the condition that the \"size\" column is greater than 2.\n",
        "\n",
        "* Using the Pandas median() function to calculate the median of the \"total_bill\" column for the filtered data.\n",
        "\n",
        "* Using the Pandas std() function to calculate the standard deviation of the \"total_bill\" column for the filtered data.\n"
      ],
      "metadata": {
        "id": "5VvRFH7PHEYU"
      }
    },
    {
      "cell_type": "code",
      "source": [
        "\n",
        "filterdData = data.query(\"size > 2\")\n",
        "print(\"Tables with 3 or more people: \\n\\n {0} \\n\".format(filterdData))\n",
        "print(\"Median of the total bill is: {0} \\n\".format(filterdData[\"total_bill\"].median()))\n",
        "print(\"The standard deviation of the total bill is: {0} \\n\".format(filterdData[\"total_bill\"].std()))"
      ],
      "metadata": {
        "colab": {
          "base_uri": "https://localhost:8080/"
        },
        "id": "R2sSMpw7T6H9",
        "outputId": "62cfa933-f62b-4fb4-e6f2-94c901fab00f"
      },
      "execution_count": null,
      "outputs": [
        {
          "output_type": "stream",
          "name": "stdout",
          "text": [
            "Tables with 3 or more people: \n",
            "\n",
            "      total_bill   tip     sex smoker  day    time  size\n",
            "1         10.34  1.66    Male     No  Sun  Dinner     3\n",
            "2         21.01  3.50    Male     No  Sun  Dinner     3\n",
            "4         24.59  3.61  Female     No  Sun  Dinner     4\n",
            "5         25.29  4.71    Male     No  Sun  Dinner     4\n",
            "7         26.88  3.12    Male     No  Sun  Dinner     4\n",
            "..          ...   ...     ...    ...  ...     ...   ...\n",
            "227       20.45  3.00    Male     No  Sat  Dinner     4\n",
            "230       24.01  2.00    Male    Yes  Sat  Dinner     4\n",
            "231       15.69  3.00    Male    Yes  Sat  Dinner     3\n",
            "238       35.83  4.67  Female     No  Sat  Dinner     3\n",
            "239       29.03  5.92    Male     No  Sat  Dinner     3\n",
            "\n",
            "[84 rows x 7 columns] \n",
            "\n",
            "Median of the total bill is: 24.795 \n",
            "\n",
            "The standard deviation of the total bill is: 9.39252026832098 \n",
            "\n"
          ]
        }
      ]
    },
    {
      "cell_type": "markdown",
      "source": [
        "###Creating a bar plot\n",
        "\n",
        "* Using the Seaborn barplot() function to create a bar plot showing the average \"tip\" by \"day\" of the week."
      ],
      "metadata": {
        "id": "iulAwqk6HJem"
      }
    },
    {
      "cell_type": "code",
      "source": [
        "sns.barplot(data=data, x=\"day\", y=\"tip\")"
      ],
      "metadata": {
        "colab": {
          "base_uri": "https://localhost:8080/",
          "height": 296
        },
        "id": "lHPYKf60U_8f",
        "outputId": "c0826d11-fc17-49be-d7e9-35822d292b83"
      },
      "execution_count": null,
      "outputs": [
        {
          "output_type": "execute_result",
          "data": {
            "text/plain": [
              "<matplotlib.axes._subplots.AxesSubplot at 0x7fb86d125820>"
            ]
          },
          "metadata": {},
          "execution_count": 161
        },
        {
          "output_type": "display_data",
          "data": {
            "text/plain": [
              "<Figure size 432x288 with 1 Axes>"
            ],
            "image/png": "[encoded data removed]"
          },
          "metadata": {
            "needs_background": "light"
          }
        }
      ]
    },
    {
      "cell_type": "markdown",
      "source": [
        "###Performing a t-test\n",
        "\n",
        "* Using the Scipy ttest_ind() function to perform a t-test to determine if there is a significant difference in the mean \"tip\" amount between customers who smoke and those who do not.\n",
        "\n"
      ],
      "metadata": {
        "id": "Qb6HE_g3HNy5"
      }
    },
    {
      "cell_type": "code",
      "source": [
        "\n",
        "smokersData = data.query(\"smoker=='Yes'\")\n",
        "nonSmokersData = data.query(\"smoker=='No'\")\n",
        "\n",
        "t_value,p_value=stats.ttest_ind(smokersData[\"tip\"],nonSmokersData[\"tip\"])\n",
        "t_test(t_value,p_value,alpha)"
      ],
      "metadata": {
        "colab": {
          "base_uri": "https://localhost:8080/"
        },
        "id": "pbHrweLrWcWO",
        "outputId": "473f4a97-a1fc-4efa-90de-d6bc44afc027"
      },
      "execution_count": null,
      "outputs": [
        {
          "output_type": "stream",
          "name": "stdout",
          "text": [
            "Test statistic is 0.092228\n",
            "p-value for one tailed test is 0.463297\n",
            "Conclusion: Since p-value(=0.463297) > alpha(=0.05) We do not reject the null hypothesis H0\n"
          ]
        }
      ]
    },
    {
      "cell_type": "markdown",
      "source": [
        "###Creating a box plot\n",
        "\n",
        "* Using the Seaborn boxplot() function to create a box plot showing the distribution of \"tip\" amount by \"sex\" of the customer.\n"
      ],
      "metadata": {
        "id": "5o0i2hdoHUwE"
      }
    },
    {
      "cell_type": "code",
      "source": [
        "sns.boxplot(data=data, x=\"sex\", y=\"tip\")"
      ],
      "metadata": {
        "colab": {
          "base_uri": "https://localhost:8080/",
          "height": 296
        },
        "id": "Tzth3RMUcU73",
        "outputId": "2503e0eb-cbd0-47ea-a745-51117707e635"
      },
      "execution_count": null,
      "outputs": [
        {
          "output_type": "execute_result",
          "data": {
            "text/plain": [
              "<matplotlib.axes._subplots.AxesSubplot at 0x7fb86d0326a0>"
            ]
          },
          "metadata": {},
          "execution_count": 201
        },
        {
          "output_type": "display_data",
          "data": {
            "text/plain": [
              "<Figure size 432x288 with 1 Axes>"
            ],
            "image/png": "[encoded data removed]"
          },
          "metadata": {
            "needs_background": "light"
          }
        }
      ]
    },
    {
      "cell_type": "markdown",
      "source": [
        "###Performing a linear regression analysis\n",
        "\n",
        "* Using the Scipy linregress() function to perform a linear regression analysis to predict the \"tip\" amount based on the \"total_bill\" and \"size\" columns.\n"
      ],
      "metadata": {
        "id": "JEYDRyJLHiMN"
      }
    },
    {
      "cell_type": "code",
      "source": [
        "slope, intercept, r_value, p_value, std_err=stats.linregress(data['total_bill'], data['tip'])\n",
        "print(\"slope: \", slope)\n",
        "print(\"intercept: \", intercept)\n",
        "print(\"r_value: \", r_value)\n",
        "print(\"p_value: \", p_value)\n",
        "print(\"std_err: \", std_err)\n",
        "equation = f'y = {slope} * x + {intercept}'\n",
        "print(\"\\nLinear regression analysis to predict the tip amount based on the total_bill and size columns: \\n{0}.\".format(equation))"
      ],
      "metadata": {
        "id": "DLbVBFhrHvhJ",
        "colab": {
          "base_uri": "https://localhost:8080/"
        },
        "outputId": "d7766d11-f1dc-443d-c8df-6fbfb2a40af7"
      },
      "execution_count": null,
      "outputs": [
        {
          "output_type": "stream",
          "name": "stdout",
          "text": [
            "slope:  0.1050245173843534\n",
            "intercept:  0.9202696135546726\n",
            "r_value:  0.6757341092113641\n",
            "p_value:  6.692470646864404e-34\n",
            "std_err:  0.007364789848762602\n",
            "\n",
            "Linear regression analysis to predict the tip amount based on the total_bill and size columns: \n",
            "y = 0.1050245173843534 * x + 0.9202696135546726.\n"
          ]
        }
      ]
    }
  ]
}